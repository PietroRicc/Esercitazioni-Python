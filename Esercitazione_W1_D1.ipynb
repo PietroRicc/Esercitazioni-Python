{
 "cells": [
  {
   "cell_type": "code",
   "execution_count": 3,
   "id": "871a5659-53f1-419e-bd6d-3c1078e9a036",
   "metadata": {},
   "outputs": [],
   "source": [
    "#Memorizzo il numero degli studenti\n",
    "numero_studenti=25"
   ]
  },
  {
   "cell_type": "code",
   "execution_count": 7,
   "id": "3cf97e2c-952e-495e-8127-b56d975872bf",
   "metadata": {},
   "outputs": [
    {
     "name": "stdout",
     "output_type": "stream",
     "text": [
      "Il numero degli studenti di questa classe è 25\n"
     ]
    }
   ],
   "source": [
    "print(\"Il numero degli studenti di questa classe è\", numero_studenti)"
   ]
  },
  {
   "cell_type": "code",
   "execution_count": 13,
   "id": "8b8ebe21-9411-4e6f-9fc4-d5447c33d0cc",
   "metadata": {},
   "outputs": [],
   "source": [
    "#Memorizzo il numero degli studenti che si sono aggiunti\n",
    "studenti_aggiunti=3"
   ]
  },
  {
   "cell_type": "code",
   "execution_count": 15,
   "id": "27ed92f1-278e-4ed7-80ff-952dc1432800",
   "metadata": {},
   "outputs": [
    {
     "name": "stdout",
     "output_type": "stream",
     "text": [
      "Il numero degli studenti che si sono aggiunti alla classe è 3\n"
     ]
    }
   ],
   "source": [
    "print (\"Il numero degli studenti che si sono aggiunti alla classe è\" , studenti_aggiunti)\n"
   ]
  },
  {
   "cell_type": "code",
   "execution_count": 39,
   "id": "3eef6eff-86fd-443d-ad24-491191a161a3",
   "metadata": {},
   "outputs": [],
   "source": [
    "#Faccio la somma per capire gli studenti totali\n",
    "def somma_totale_studenti(numero_studenti, studenti_aggiunti):\n",
    "    somma = numero_studenti + studenti_aggiunti\n",
    "    return somma"
   ]
  },
  {
   "cell_type": "code",
   "execution_count": 47,
   "id": "7146d62a-6407-4062-a375-5ce0fe0b2fb6",
   "metadata": {},
   "outputs": [],
   "source": [
    "totale = somma_totale_studenti(numero_studenti, studenti_aggiunti)"
   ]
  },
  {
   "cell_type": "code",
   "execution_count": 51,
   "id": "7f4ce5c8-7bf6-489c-b2b5-47f526791167",
   "metadata": {},
   "outputs": [
    {
     "name": "stdout",
     "output_type": "stream",
     "text": [
      "Il numero totale degli studenti è 28\n"
     ]
    }
   ],
   "source": [
    "print(\"Il numero totale degli studenti è\",totale)\n"
   ]
  },
  {
   "cell_type": "code",
   "execution_count": 59,
   "id": "0c7ee374-1082-4430-9bdb-bd4ad9e5f571",
   "metadata": {},
   "outputs": [],
   "source": [
    "#Memorizzo la stringa \"EPICODE\"\n",
    "Nome_scuola = \"EPICODE\""
   ]
  },
  {
   "cell_type": "code",
   "execution_count": 61,
   "id": "c1b5bce4-fa4c-4909-b432-815815f8c8ef",
   "metadata": {},
   "outputs": [
    {
     "name": "stdout",
     "output_type": "stream",
     "text": [
      "EPICODE\n"
     ]
    }
   ],
   "source": [
    "print(Nome_scuola)\n"
   ]
  },
  {
   "cell_type": "code",
   "execution_count": 63,
   "id": "98029da1-0432-43a1-bb8c-39b2359ea830",
   "metadata": {},
   "outputs": [],
   "source": [
    "#Creo variabile x\n",
    "x=10"
   ]
  },
  {
   "cell_type": "code",
   "execution_count": 65,
   "id": "4a900dd8-2147-47ef-8a0d-ceeb5f1b52b1",
   "metadata": {},
   "outputs": [],
   "source": [
    "#Metodo1 per aggiungere a x 2 e poi moltiplicare il tutto per 3\n",
    "x +=2"
   ]
  },
  {
   "cell_type": "code",
   "execution_count": 73,
   "id": "c03f5aa9-99e8-4d37-a4b1-e4b64b6eb020",
   "metadata": {},
   "outputs": [],
   "source": [
    "x *=3\n"
   ]
  },
  {
   "cell_type": "code",
   "execution_count": 77,
   "id": "b5499bc4-42d3-46cb-b64d-59093ede0349",
   "metadata": {},
   "outputs": [
    {
     "name": "stdout",
     "output_type": "stream",
     "text": [
      "metodo1= 36\n"
     ]
    }
   ],
   "source": [
    "print(\"metodo1=\", x)"
   ]
  },
  {
   "cell_type": "code",
   "execution_count": 79,
   "id": "9560eff0-ab31-4e1f-bf8a-671f9216e54d",
   "metadata": {},
   "outputs": [],
   "source": [
    "#Metodo2 per aggiungere a x 2 e poi moltiplicare il tutto per 3\n",
    "x=10"
   ]
  },
  {
   "cell_type": "code",
   "execution_count": 81,
   "id": "2921d602-3907-4aab-9f98-49aabbd907a1",
   "metadata": {},
   "outputs": [],
   "source": [
    "x= x+2"
   ]
  },
  {
   "cell_type": "code",
   "execution_count": 83,
   "id": "9952b1e2-febb-4ba9-a0e6-fd177af23744",
   "metadata": {},
   "outputs": [],
   "source": [
    "x=x*3"
   ]
  },
  {
   "cell_type": "code",
   "execution_count": 85,
   "id": "916428ea-4223-458b-adeb-327daec6dba8",
   "metadata": {},
   "outputs": [
    {
     "name": "stdout",
     "output_type": "stream",
     "text": [
      "metodo2= 36\n"
     ]
    }
   ],
   "source": [
    "print(\"metodo2=\", x)"
   ]
  },
  {
   "cell_type": "code",
   "execution_count": 89,
   "id": "120db254-b572-4b82-b269-aad1e34e1dc8",
   "metadata": {},
   "outputs": [],
   "source": [
    "#Metodo3per aggiungere a x 2 e poi moltiplicare il tutto per 3\n",
    "def quantita_richiesta(x):\n",
    "    x+=2\n",
    "    x*=3\n",
    "    return x"
   ]
  },
  {
   "cell_type": "code",
   "execution_count": 91,
   "id": "05d75dbb-528b-4038-9f66-cd21960a1d4d",
   "metadata": {},
   "outputs": [
    {
     "name": "stdout",
     "output_type": "stream",
     "text": [
      "metodo3= 36\n"
     ]
    }
   ],
   "source": [
    "print(\"metodo3=\", x)"
   ]
  },
  {
   "cell_type": "code",
   "execution_count": 123,
   "id": "6e2bdf9b-7ea6-4c97-98f2-5570223a2c32",
   "metadata": {},
   "outputs": [],
   "source": [
    "#Creo 4 stringhe e poi verifico se il numero di caratteri è compreso tra 5 e 8\n",
    "str1 = \"Windows\" \n",
    "str2 = \"Excel\" \n",
    "str3 = \"Powerpoint\" \n",
    "str4 = \"Word\""
   ]
  },
  {
   "cell_type": "code",
   "execution_count": 137,
   "id": "ea9ea3cb-867a-42aa-8e39-a3fb400c05de",
   "metadata": {},
   "outputs": [
    {
     "name": "stdout",
     "output_type": "stream",
     "text": [
      "Windows Excel Powerpoint Word\n"
     ]
    }
   ],
   "source": [
    "print(str1,str2,str3,str4)"
   ]
  },
  {
   "cell_type": "code",
   "execution_count": 139,
   "id": "c8c9fe37-b0a9-4b92-932b-89334e8acf1e",
   "metadata": {},
   "outputs": [],
   "source": [
    "#Verifico per ogni stringa se il numero di caratteri è compreso tra 5 e 8\n",
    "def verifica_lunghezza(str1):\n",
    "    return 5 <= len(str1) <= 8 "
   ]
  },
  {
   "cell_type": "code",
   "execution_count": 141,
   "id": "bcbd4e2e-a1a6-417f-9c9d-f2c5c84a206e",
   "metadata": {},
   "outputs": [
    {
     "name": "stdout",
     "output_type": "stream",
     "text": [
      "True\n"
     ]
    }
   ],
   "source": [
    "print(verifica_lunghezza(str1))"
   ]
  },
  {
   "cell_type": "code",
   "execution_count": 143,
   "id": "f2b60f46-2844-441d-b46f-bf0bfeea75d2",
   "metadata": {},
   "outputs": [],
   "source": [
    "def verifica_lunghezza(str2):\n",
    "    return 5 <= len(str2) <= 8 "
   ]
  },
  {
   "cell_type": "code",
   "execution_count": 155,
   "id": "223dc936-8bdb-43c1-9fb0-832ffdf13900",
   "metadata": {},
   "outputs": [
    {
     "name": "stdout",
     "output_type": "stream",
     "text": [
      "True\n"
     ]
    }
   ],
   "source": [
    "print(verifica_lunghezza(str2))"
   ]
  },
  {
   "cell_type": "code",
   "execution_count": 157,
   "id": "208f58cc-adc4-4194-8333-e20be7296622",
   "metadata": {},
   "outputs": [],
   "source": [
    "def verifica_lunghezza(str3):\n",
    "    return 5 <= len(str3) <= 8"
   ]
  },
  {
   "cell_type": "code",
   "execution_count": 159,
   "id": "7a078ca4-468c-4c15-a078-998fe9900f5f",
   "metadata": {},
   "outputs": [
    {
     "name": "stdout",
     "output_type": "stream",
     "text": [
      "False\n"
     ]
    }
   ],
   "source": [
    "print(verifica_lunghezza(str3))"
   ]
  },
  {
   "cell_type": "code",
   "execution_count": 162,
   "id": "5cdca939-c8e7-4623-9c11-e68cb77f3fd4",
   "metadata": {},
   "outputs": [],
   "source": [
    "def verifica_lunghezza(str4):\n",
    "    return 5 <= len(str3) <= 8"
   ]
  },
  {
   "cell_type": "code",
   "execution_count": 164,
   "id": "fe3af791-ed2d-4724-8593-6faecbd5c4ab",
   "metadata": {},
   "outputs": [
    {
     "name": "stdout",
     "output_type": "stream",
     "text": [
      "False\n"
     ]
    }
   ],
   "source": [
    "print(verifica_lunghezza(str4))"
   ]
  },
  {
   "cell_type": "code",
   "execution_count": 166,
   "id": "4a60f29b-a8f7-4a1e-87d6-86e423bd787b",
   "metadata": {},
   "outputs": [],
   "source": [
    "#Calcola quanti secondi ci sono in un anno non bisestile\n",
    "giorni_totali=365\n",
    "secondi_totali= giorni_totali*24*60*60 #per 24 ore, 60 min e 60 sec "
   ]
  },
  {
   "cell_type": "code",
   "execution_count": 168,
   "id": "8ef99e12-ea21-4d3c-8dae-06a21063de8c",
   "metadata": {},
   "outputs": [
    {
     "name": "stdout",
     "output_type": "stream",
     "text": [
      "La somma de secondi totali in un anno è 31536000\n"
     ]
    }
   ],
   "source": [
    "print(\"La somma de secondi totali in un anno è\",secondi_totali)"
   ]
  },
  {
   "cell_type": "code",
   "execution_count": 172,
   "id": "f205ce1e-3154-4ba7-8cdb-df6c96e99d84",
   "metadata": {},
   "outputs": [],
   "source": [
    "#ESERCIZIO: - Trasformarla in modo che tutti i caratteri siano maiuscoli (uppercase) • Usare il metodo .strip(); cambia qualcosa? Perché?\n",
    "my_string = \"I am studying Python\""
   ]
  },
  {
   "cell_type": "code",
   "execution_count": 174,
   "id": "d473a017-66be-427c-aec5-49f58b392a44",
   "metadata": {},
   "outputs": [],
   "source": [
    "my_string_MAIUSC = my_string.upper()"
   ]
  },
  {
   "cell_type": "code",
   "execution_count": 176,
   "id": "344efa8f-fe20-4d5c-a6aa-2c209c01afe1",
   "metadata": {},
   "outputs": [
    {
     "name": "stdout",
     "output_type": "stream",
     "text": [
      "I AM STUDYING PYTHON\n"
     ]
    }
   ],
   "source": [
    "print(my_string_MAIUSC)"
   ]
  },
  {
   "cell_type": "code",
   "execution_count": 180,
   "id": "95a71518-d6a8-421b-b82f-abfe5a018737",
   "metadata": {},
   "outputs": [],
   "source": [
    "#Trasformarla in modo che tutti i caratteri siano minuscoli (lowercase)\n",
    "my_string_minus = my_string.lower()"
   ]
  },
  {
   "cell_type": "code",
   "execution_count": 182,
   "id": "699c4edc-007e-4023-a52d-1aa18dab4f98",
   "metadata": {},
   "outputs": [
    {
     "name": "stdout",
     "output_type": "stream",
     "text": [
      "i am studying python\n"
     ]
    }
   ],
   "source": [
    "print(my_string_minus)"
   ]
  },
  {
   "cell_type": "code",
   "execution_count": 192,
   "id": "0956fa09-7f9a-4452-afb8-23c10f3e39d0",
   "metadata": {},
   "outputs": [],
   "source": [
    "#Sostituire la sottostringa \"Python\" con la stringa \"a lot\"\n",
    "new_string = my_string.replace(\"Python\",\"a lot\")\n"
   ]
  },
  {
   "cell_type": "code",
   "execution_count": 194,
   "id": "ec063fe6-6957-4f87-85dc-6edb8617f3d0",
   "metadata": {},
   "outputs": [
    {
     "name": "stdout",
     "output_type": "stream",
     "text": [
      "I am studying a lot\n"
     ]
    }
   ],
   "source": [
    "print(new_string)\n"
   ]
  },
  {
   "cell_type": "code",
   "execution_count": null,
   "id": "31444a84-8e9e-4a0b-bc7f-9b31a7b7cc7d",
   "metadata": {},
   "outputs": [],
   "source": []
  }
 ],
 "metadata": {
  "kernelspec": {
   "display_name": "Python [conda env:base] *",
   "language": "python",
   "name": "conda-base-py"
  },
  "language_info": {
   "codemirror_mode": {
    "name": "ipython",
    "version": 3
   },
   "file_extension": ".py",
   "mimetype": "text/x-python",
   "name": "python",
   "nbconvert_exporter": "python",
   "pygments_lexer": "ipython3",
   "version": "3.12.7"
  }
 },
 "nbformat": 4,
 "nbformat_minor": 5
}
