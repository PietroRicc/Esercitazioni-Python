{
 "cells": [
  {
   "cell_type": "code",
   "execution_count": 2,
   "id": "2085df31-87b8-4f6d-b66f-37ff96ed444a",
   "metadata": {},
   "outputs": [
    {
     "name": "stdout",
     "output_type": "stream",
     "text": [
      "8\n"
     ]
    }
   ],
   "source": [
    "#es 1\n",
    "#che tipo di struttura dati o matematica potrebbe rappresentare? Notare che tutte le liste \"interne\" sono della stessa dimensione \n",
    "#Come facciamo per accedere ad un elemento in particolare?\n",
    "\n",
    "\n",
    "mat = [[0, 1, 2, 3, 4], \n",
    "       [5, 6, 7, 8, 9], \n",
    "       [10, 11, 12, 13, 14]]\n",
    "\n",
    "#questa struttura dati ricorda una matrice\n",
    "#visualizzandola come una matrice possiamo individare a posizione di un elemento specifico inserendo la riga e l colonna corrispondente\n",
    "\n",
    "print(mat[1][3]) # 1 è la riga e 3 + la colonna di riferimento\n"
   ]
  },
  {
   "cell_type": "code",
   "execution_count": 3,
   "id": "a6ed4007-e17f-4b25-82c9-f30e026ec30d",
   "metadata": {},
   "outputs": [
    {
     "name": "stdout",
     "output_type": "stream",
     "text": [
      "-0.6298879942744539\n",
      "0.36731936773024515\n",
      "120\n"
     ]
    }
   ],
   "source": [
    "import math\n",
    "Sin = math.sin(81)\n",
    "Cos = math.cos(225)\n",
    "Fattoriale = math.factorial(5)\n",
    "print(Sin)\n",
    "print(Cos)\n",
    "print(Fattoriale)"
   ]
  },
  {
   "cell_type": "code",
   "execution_count": 4,
   "id": "bf9999a2-6d3d-4c54-9a39-bf468452c768",
   "metadata": {},
   "outputs": [
    {
     "data": {
      "text/plain": [
       "180.0"
      ]
     },
     "execution_count": 4,
     "metadata": {},
     "output_type": "execute_result"
    }
   ],
   "source": [
    "math.degrees(math.pi)\n",
    "#converte math.pi che sarebbe pigreco da radianti a gradi cio che ne cnsegue e questa formula: pigreco (radianti da convertire)/180 (gradi) * pi greco"
   ]
  },
  {
   "cell_type": "code",
   "execution_count": 25,
   "id": "16858d44-e4b0-4d9a-9a20-d0b532f32931",
   "metadata": {},
   "outputs": [
    {
     "name": "stdout",
     "output_type": "stream",
     "text": [
      "8150\n",
      "1280\n",
      "[5500 7200 6410 8150 7100 5350]\n",
      "6\n",
      "[2000 1280 1900 2500]\n",
      "4634.166666666667\n"
     ]
    }
   ],
   "source": [
    "# L'azienda Object SpA ha creato una lista di quanti oggetti ha venduto ogni mese nell'ultimo anno: \n",
    "list = [2000, 5500, 7200, 4320, 1280, 1900, 2500, 3900, 6410, 8150, 7100, 5350]\n",
    "\n",
    "#trasformiamola in un array NumPy (casting)\n",
    "import numpy as np\n",
    "arr_list = np.array(list)\n",
    "\n",
    "#qual è stata la vendita massima mensile? E quella minima?\n",
    "print(arr_list.max())\n",
    "print(arr_list.min())\n",
    "\n",
    "# quali sono le vendite mensili maggiori di 4999 oggetti? E quante ne sono? \n",
    "filtro = arr_list > 4999\n",
    "print(arr_list[filtro])\n",
    "print(arr_list[filtro].size)\n",
    "\n",
    "# quali sono le vendite minori di 3000 oggetti? \n",
    "filtro_2 = arr_list < 3000\n",
    "print(arr_list[filtro_2])\n",
    "\n",
    "# in media quanti oggetti sono stati venduti al mese?\n",
    "media = sum(arr_list)/len(arr_list)\n",
    "print(media)"
   ]
  },
  {
   "cell_type": "code",
   "execution_count": 43,
   "id": "43f4da97-1723-44b2-870c-71763a2ec80d",
   "metadata": {},
   "outputs": [
    {
     "data": {
      "text/plain": [
       "' DOMANDA\\nQual è la differenza tra i due tipi di dato? Cosa potremmo fare con la Series che non possiamo fare con il dizionario?\\n\\nRISPOSTA\\nLa differenza è che avendo importato pandas e utilizzando .series si ha una potenza di manipolazione dei dati molto maggiore rispetto al dizionario.\\n'"
      ]
     },
     "execution_count": 43,
     "metadata": {},
     "output_type": "execute_result"
    }
   ],
   "source": [
    "import pandas as pd\n",
    "#Consideriamo il seguente dizionario: \n",
    "fatturati_dict = {1997: 12_000, 1998: 15_000, 1999: 20_000, 2000: 23_000, 2001: 25_000, 2002: 17_000, 2003: 14_000, 2004: 21_000} \n",
    "\n",
    "#Consideriamo ora la seguente Series: \n",
    "fatturati_series = pd.Series([12_000, 15_000, 20_000, 23_000, 25_000, 17_000, 14_000, 21_000], index=range(1997, 2005)) \n",
    "\n",
    "#Possiamo accedere alle stesse informazioni nello stesso modo: \n",
    "fatturati_dict[1997] \n",
    "fatturati_series[1997] \n",
    "\n",
    "\"\"\" DOMANDA\n",
    "Qual è la differenza tra i due tipi di dato? Cosa potremmo fare con la Series che non possiamo fare con il dizionario?\n",
    "\n",
    "RISPOSTA\n",
    "La differenza è che avendo importato pandas e utilizzando .series si ha una potenza di manipolazione dei dati molto maggiore rispetto al dizionario.\n",
    "\"\"\""
   ]
  },
  {
   "cell_type": "code",
   "execution_count": 61,
   "id": "2aa6b687-d936-4a6c-8ddf-629de920896b",
   "metadata": {},
   "outputs": [
    {
     "name": "stdout",
     "output_type": "stream",
     "text": [
      "[ 200  400  600  800 1000 1200 1400 1600 1800 2000]\n"
     ]
    },
    {
     "data": {
      "text/plain": [
       "array([ 200,  400,  600,  800, 1000, 1200, 1400, 1600, 1800, 2000])"
      ]
     },
     "execution_count": 61,
     "metadata": {},
     "output_type": "execute_result"
    }
   ],
   "source": [
    "# ES\n",
    "#L'azienda Object SpA ha un dataset con tutti gli stipendi dei dipendenti, memorizzato in un ndarray: \n",
    "\n",
    "import numpy as np \n",
    "stipendi = np.array( [100, 200, 300, 400, 500,  600, 700, 800, 900, 1000] )\n",
    "\n",
    "for stipendio in stipendi:\n",
    "    nuovo_stipendo = stipendi * 2\n",
    "print(nuovo_stipendo)\n",
    "\n",
    "stipendi * 2\n"
   ]
  },
  {
   "cell_type": "code",
   "execution_count": null,
   "id": "a053f727-91a5-4c4c-ba43-3afbd3243361",
   "metadata": {},
   "outputs": [],
   "source": []
  }
 ],
 "metadata": {
  "kernelspec": {
   "display_name": "Python [conda env:base] *",
   "language": "python",
   "name": "conda-base-py"
  },
  "language_info": {
   "codemirror_mode": {
    "name": "ipython",
    "version": 3
   },
   "file_extension": ".py",
   "mimetype": "text/x-python",
   "name": "python",
   "nbconvert_exporter": "python",
   "pygments_lexer": "ipython3",
   "version": "3.12.7"
  }
 },
 "nbformat": 4,
 "nbformat_minor": 5
}
