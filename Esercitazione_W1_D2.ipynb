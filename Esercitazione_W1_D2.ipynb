{
 "cells": [
  {
   "cell_type": "code",
   "execution_count": 1,
   "id": "b47c2c26-33f7-43c9-83f1-8e3d14af942c",
   "metadata": {},
   "outputs": [
    {
     "name": "stdout",
     "output_type": "stream",
     "text": [
      "E\n",
      "p\n",
      "i\n",
      "c\n",
      "o\n",
      "d\n",
      "e\n"
     ]
    }
   ],
   "source": [
    "#ES 1\n",
    "#creo stringa di riferimento\n",
    "nome_scuola = \"Epicode\"\n",
    "\n",
    "#stampo ogni carattere della stringa\n",
    "i = 0\n",
    "\n",
    "while i<len(nome_scuola):\n",
    "    print(nome_scuola[i])\n",
    "    i += 1"
   ]
  },
  {
   "cell_type": "code",
   "execution_count": 2,
   "id": "7edd9d6b-a609-47c2-aa33-528f50a2cab9",
   "metadata": {},
   "outputs": [
    {
     "name": "stdout",
     "output_type": "stream",
     "text": [
      "0\n",
      "1\n",
      "2\n",
      "3\n",
      "4\n",
      "5\n",
      "6\n",
      "7\n",
      "8\n",
      "9\n",
      "10\n",
      "11\n",
      "12\n",
      "13\n",
      "14\n",
      "15\n",
      "16\n",
      "17\n",
      "18\n",
      "19\n",
      "20\n"
     ]
    }
   ],
   "source": [
    "#Es 2\n",
    "#inizializzo il contatore\n",
    "i=0\n",
    "while i <= 20:\n",
    "    print(i)\n",
    "    i += 1 \n",
    " "
   ]
  },
  {
   "cell_type": "code",
   "execution_count": 3,
   "id": "85ce9765-f875-42f6-a305-4e2c2473901f",
   "metadata": {},
   "outputs": [
    {
     "name": "stdout",
     "output_type": "stream",
     "text": [
      "1\n",
      "2\n",
      "4\n",
      "8\n",
      "16\n",
      "32\n",
      "64\n",
      "128\n",
      "256\n",
      "512\n"
     ]
    }
   ],
   "source": [
    "#Es 3\n",
    "#Calcolare e stampare tutte le prime 10 potenze di 2 (e.g., 2⁰, 2¹, 2², …) utilizzando un ciclo while.\n",
    "i = 2\n",
    "esponente = 0\n",
    "\n",
    "while esponente < 10:\n",
    "    risultato = i**esponente\n",
    "    print(risultato)\n",
    "    esponente += 1\n"
   ]
  },
  {
   "cell_type": "code",
   "execution_count": 4,
   "id": "59ab6143-7c37-4a75-b4cb-c7d7ea601724",
   "metadata": {},
   "outputs": [
    {
     "name": "stdout",
     "output_type": "stream",
     "text": [
      "1\n",
      "2\n",
      "4\n",
      "8\n",
      "16\n",
      "32\n",
      "64\n",
      "128\n",
      "256\n",
      "512\n",
      "1024\n",
      "2048\n",
      "4096\n",
      "8192\n",
      "16384\n",
      "32768\n",
      "65536\n",
      "131072\n",
      "262144\n",
      "524288\n",
      "1048576\n",
      "2097152\n",
      "4194304\n",
      "8388608\n",
      "16777216\n",
      "33554432\n",
      "67108864\n",
      "134217728\n",
      "268435456\n",
      "536870912\n",
      "1073741824\n",
      "2147483648\n",
      "4294967296\n",
      "8589934592\n",
      "17179869184\n",
      "34359738368\n",
      "68719476736\n",
      "137438953472\n",
      "274877906944\n",
      "549755813888\n",
      "1099511627776\n",
      "2199023255552\n",
      "4398046511104\n",
      "8796093022208\n",
      "17592186044416\n",
      "35184372088832\n",
      "70368744177664\n",
      "140737488355328\n",
      "281474976710656\n",
      "562949953421312\n",
      "1125899906842624\n",
      "2251799813685248\n",
      "4503599627370496\n",
      "9007199254740992\n",
      "18014398509481984\n",
      "36028797018963968\n",
      "72057594037927936\n",
      "144115188075855872\n",
      "288230376151711744\n",
      "576460752303423488\n",
      "1152921504606846976\n",
      "2305843009213693952\n",
      "4611686018427387904\n",
      "9223372036854775808\n",
      "18446744073709551616\n",
      "36893488147419103232\n",
      "73786976294838206464\n",
      "147573952589676412928\n",
      "295147905179352825856\n",
      "590295810358705651712\n",
      "1180591620717411303424\n",
      "2361183241434822606848\n",
      "4722366482869645213696\n",
      "9444732965739290427392\n",
      "18889465931478580854784\n",
      "37778931862957161709568\n",
      "75557863725914323419136\n",
      "151115727451828646838272\n",
      "302231454903657293676544\n",
      "604462909807314587353088\n",
      "1208925819614629174706176\n",
      "2417851639229258349412352\n",
      "4835703278458516698824704\n",
      "9671406556917033397649408\n",
      "19342813113834066795298816\n",
      "38685626227668133590597632\n",
      "77371252455336267181195264\n",
      "154742504910672534362390528\n",
      "309485009821345068724781056\n",
      "618970019642690137449562112\n",
      "1237940039285380274899124224\n",
      "2475880078570760549798248448\n",
      "4951760157141521099596496896\n",
      "9903520314283042199192993792\n",
      "19807040628566084398385987584\n",
      "39614081257132168796771975168\n",
      "79228162514264337593543950336\n",
      "158456325028528675187087900672\n",
      "316912650057057350374175801344\n",
      "633825300114114700748351602688\n"
     ]
    }
   ],
   "source": [
    "#Es 4\n",
    "#Esercizio Calcolare e stampare tutte le prime N potenze di 2 utilizzando un ciclo while, domandando all'utente di inserire N.\n",
    "i = 2\n",
    "esponente = 0\n",
    "\n",
    "while esponente < 100:\n",
    "    risultato = i**esponente\n",
    "    print(risultato)\n",
    "    esponente += 1"
   ]
  },
  {
   "cell_type": "code",
   "execution_count": 5,
   "id": "381e0716-d562-45ff-8155-5064365f3f90",
   "metadata": {},
   "outputs": [
    {
     "name": "stdout",
     "output_type": "stream",
     "text": [
      "1\n",
      "2\n",
      "4\n",
      "8\n",
      "16\n",
      "32\n",
      "64\n",
      "128\n",
      "256\n",
      "512\n",
      "1024\n",
      "2048\n",
      "4096\n",
      "8192\n",
      "16384\n"
     ]
    }
   ],
   "source": [
    "#ES 5\n",
    "#Calcolare e stampare tutte le potenze di 2 minori di 25000.\n",
    "i = 2\n",
    "esponente = 0\n",
    "\n",
    "while i**esponente < 25000:\n",
    "    risultato = i**esponente\n",
    "    print(risultato)\n",
    "    esponente += 1"
   ]
  },
  {
   "cell_type": "code",
   "execution_count": 6,
   "id": "fc261f6c-2ecc-4d7e-903a-54165bc6d46f",
   "metadata": {},
   "outputs": [
    {
     "name": "stdout",
     "output_type": "stream",
     "text": [
      "Lista aggiornata correttamente ['Cybersecurity', 'Data Analyst', 'Backend', 'Frontend', 'Data Analyst', 'Backend', 'Data Analyst', 'Backend']\n"
     ]
    }
   ],
   "source": [
    "#es 6\n",
    "#Abbiamo due liste, una di studenti e una di corsi; \n",
    "studenti = [\"Alex\", \"Bob\", \"Cindy\", \"Dan\", \"Emma\", \"Faith\", \"Grace\", \"Henry\"] \n",
    "corsi = [\"Cybersecurity\", \"Data Analyst\", \"Backend\", \"Frontend\", \"Data Analyst\", \"Backend\"]\n",
    "dati_mancanti = [\"Data Analyst\", \"Backend\", \"Frontend\", \"Cybersecurity\"]\n",
    "\n",
    "#Aggiungere i dati mancanti alla lista corsi;\n",
    "for corso in dati_mancanti:\n",
    "    if len(corsi)<len(studenti):\n",
    "        corsi.append(corso)\n",
    "\n",
    "if len(corsi)==len(studenti):\n",
    "    print(\"Lista aggiornata correttamente\",corsi)\n",
    "else:\n",
    "    print(\"Errore\")"
   ]
  },
  {
   "cell_type": "code",
   "execution_count": null,
   "id": "13f07baa-6574-4153-8864-61e1a8dd2103",
   "metadata": {},
   "outputs": [],
   "source": [
    "#es 7\n",
    "#Memorizza e stampa tutti i fattori di un numero dato in input.\n",
    "def trova_fattori(n):\n",
    "    fattori = []  # Lista per memorizzare i fattori\n",
    "    for i in range(1, n + 1):  # Controlliamo tutti i numeri da 1 a n+1\n",
    "        if n % i == 0:  # Se i è un divisore di n\n",
    "            fattori.append(i)  # Lo aggiungiamo alla lista\n",
    "    return fattori  # Restituiamo la lista con i fattori\n",
    "numero = int(input(\"Inserisci un numero: \"))\n",
    "numero_fattore = trova_fattori(numero)\n",
    "print(f\"I fattori di {numero} sono: {numero_fattore}\")"
   ]
  },
  {
   "cell_type": "code",
   "execution_count": null,
   "id": "383b9817-8646-47ef-9cd6-4552ccadd950",
   "metadata": {},
   "outputs": [],
   "source": [
    "#es 8 \n",
    "#Stampare ogni carattere della stringa, uno su ogni riga, utilizzando un costrutto for.\n",
    "nome_scuola = \"Epicode\"\n",
    "for carattere in nome_scuola:\n",
    "    print(carattere)"
   ]
  },
  {
   "cell_type": "code",
   "execution_count": null,
   "id": "359034f7-e4f6-41d3-9c87-1ff05ec9e46e",
   "metadata": {},
   "outputs": [],
   "source": [
    "# Es9 \n",
    "#Calcolare e stampare tutte le prime 10 potenze di 2 utilizzando un ciclo\n",
    "potenze_2 = []\n",
    "esp = 0\n",
    "while esp < 10:\n",
    "    potenze_2.append(2 ** esp)\n",
    "    esp += 1\n",
    "    \n",
    "print(potenze_2)"
   ]
  },
  {
   "cell_type": "code",
   "execution_count": null,
   "id": "321e59dc-6b45-4f80-92e5-6c6570c71269",
   "metadata": {},
   "outputs": [],
   "source": [
    "#es 10\n",
    "#Calcolare (ma non stampare) le prime N potenze di K; ognuna di esse andrà memorizzata in coda a una lista.\n",
    "def potenze(N,K):\n",
    "    potenze = []\n",
    "    esponente = 0\n",
    "    while esponente < N:\n",
    "        potenze.append(K ** esponente)\n",
    "        esponente += 1\n",
    "    return(potenze)\n",
    "\n",
    "N = int(input(\"Quante potenze calcolare? \"))  # Chiediamo all'utente il numero N di potenze\n",
    "K = int(input(\"Qual è il valore di K? \"))    # Chiediamo all'utente il valore di K\n",
    "\n",
    "# Calcoliamo le potenze\n",
    "risultato = potenze(N, K)\n",
    "print(potenze(N, K))\n"
   ]
  },
  {
   "cell_type": "code",
   "execution_count": null,
   "id": "f6de9548-b2f6-4091-b1a6-73916bc3ef55",
   "metadata": {},
   "outputs": [],
   "source": [
    "#es 11\n",
    "#Abbiamo una lista con i guadagni degli ultimi 12 mesi. Usando un costrutto for, calcolare la media dei guadagni e stamparla a video.\n",
    "guadagni = [100, 90, 70, 40, 50, 80, 90, 120, 80, 20, 50, 50]\n",
    "somma = 0 \n",
    "for guadagno in guadagni:\n",
    "    somma += guadagno \n",
    "media = somma / len(guadagni)\n",
    "print(media)\n",
    "    "
   ]
  },
  {
   "cell_type": "code",
   "execution_count": null,
   "id": "5a0f1736-59d4-4ee4-9116-af1bdad13ca7",
   "metadata": {},
   "outputs": [],
   "source": [
    "#es 12\n",
    "#stampiamo, per ogni parola, quante volte appare la lettera \"e\"; facciamo attenzione al fatto che appare sia maiuscola che minuscola.\n",
    "parole = [\"Albergo\", \"Sedia\", \"Borgo\", \"Petalo\", \"Eremo\", \"Belvedere\", \"Semestre\", \"Esteta\", \"Sosta\", \"Orpello\", \"Abete\", \"Orologio\", \"Cesta\", \"Ermellino\"]\n",
    "lettera = \"e\"\n",
    "parole_minusc = [parola.lower()for parola in parole]\n",
    "\n",
    "for parola in parole:\n",
    "    parola_lower = parola.lower()\n",
    "    \n",
    "    if lettera in parola_lower:\n",
    "        conteggio = parola_lower.count(lettera)\n",
    "        \n",
    "        print(f\"La lettera '{lettera}' è presente nella parola '{parola_lower}' {conteggio} volte.\")\n",
    "    else:\n",
    "        print(f\"La lettera '{lettera}' non è presente nella parola '{parola_lower}'.\")\n",
    "\n"
   ]
  },
  {
   "cell_type": "code",
   "execution_count": null,
   "id": "3d6ce2bc-dd3a-45ee-85f7-48a90657b850",
   "metadata": {},
   "outputs": [],
   "source": [
    "#es 13\n",
    "#Creiamo un dizionario che assegni ad ogni proprietario la sua auto\n",
    "proprietari_auto = {\n",
    "    \"Ada\": \"Punto\",\n",
    "    \"Ben\": \"Multipla\",\n",
    "    \"Charlie\" : \"Golf\",\n",
    "    \"Debbie\" : \"107\"\n",
    "}\n",
    "print(proprietari_auto)\n",
    "if \"Debbie\" in proprietari_auto:\n",
    "    print(f\"L'auto di Debbie è: {proprietari_auto['Debbie']}\")\n",
    "\n",
    "#es 14\n",
    "#Con un ciclo, e usando il metodo .values(), stampiamo a video tutte le auto che non sono una Multipla.\n",
    "for auto in proprietari_auto.values():\n",
    "    if auto != \"Multipla\":\n",
    "        print(auto)\n",
    "\n",
    "\n"
   ]
  },
  {
   "cell_type": "code",
   "execution_count": null,
   "id": "55a1a89a-71b5-4edc-bc6c-e03c8109d919",
   "metadata": {},
   "outputs": [],
   "source": [
    "#es 15\n",
    "#Aggiornare il dizionario dizionario_auto con i dati contenuti in nuovi_proprietari e stamparlo. Cosa è successo a Ben?\n",
    "dizionario_auto = {\"Ada\": \"Punto\", \"Ben\": \"Multipla\", \"Charlie\": \"Golf\", \"Debbie\": \"107\", \"Emily\": \"A1\"} \n",
    "nuovi_proprietari = {\"Ben\": \"Polo\", \"Fred\": \"Octavia\", \"Grace\": \"Yaris\", \"Hugh\": \"Clio\"}\n",
    "dizionario_auto.update(nuovi_proprietari)\n",
    "print(dizionario_auto)\n",
    "#Ben ha cambiato macchina e automaticamente il programma ha sostituito il nome dell'auto con quello corretto"
   ]
  },
  {
   "cell_type": "code",
   "execution_count": null,
   "id": "52b4fb33-6f95-46ed-85b1-0fa736260235",
   "metadata": {},
   "outputs": [],
   "source": [
    "#es 16\n",
    "\"\"\"\n",
    "Differenze principali:\n",
    "In JSON, le chiavi devono essere tra virgolette doppie (\"chiave\"), in Python possono anche essere senza virgolette.\n",
    "In JSON, i valori booleani sono true e false, in Python diventano True e False.\n",
    "In JSON null --- None in Python.\n",
    "\"\"\"\n"
   ]
  },
  {
   "cell_type": "code",
   "execution_count": null,
   "id": "917588d7-a102-412a-9a8f-eab7dc38e301",
   "metadata": {},
   "outputs": [],
   "source": [
    "#es 17\n",
    "lista_numeri = [1,3,12,44,12,55,354,354,765,888]\n",
    "\n",
    "print(f\"Il numero più grande è\", max(lista_numeri))\n",
    "print(f\"Il numero più piccolo è\", min(lista_numeri))\n",
    "\n",
    "numeri_singoli = sorted(set(lista_numeri), reverse = True)\n",
    "print(numeri_singoli)\n",
    "\n",
    "if len(numeri_singoli) > 3:\n",
    "        top_3_number = numeri_singoli[:3]\n",
    "        print(\"I tre numeri più grandi sono: \", top_3_number)\n",
    "else:\n",
    "        print(numeri_singoli)\n"
   ]
  },
  {
   "cell_type": "code",
   "execution_count": null,
   "id": "ab89c55b-f785-4cf3-87f6-2c2cdaa2598a",
   "metadata": {},
   "outputs": [],
   "source": [
    "#es 18\n",
    "\"\"\"\n",
    "Scrivere un programma che \n",
    "• in input acquisisce una lista di numeri e un numero K \n",
    "• in output, dovrà restituire la media di tutti i numeri nella lista maggiori o uguali a K \n",
    "• se non ce ne dovesse essere nessuno, dovrà stampare a schermo un messaggio adeguato.\n",
    "\"\"\"\n",
    "input_numeri = (input(\"Inserisci una lista di valori separati da uno spazio\"))\n",
    "lista_numeri = [int(numero) for numero in input_numeri.split()]\n",
    "K = int(input(\"Inserisci valore corrispendente a K\"))\n",
    "filtro_numeri = [numero for numero in lista_numeri if numero >= K]\n",
    "\n",
    "if filtro_numeri:\n",
    "    media_UP = sum(filtro_numeri)/len(filtro_numeri)\n",
    "    print(\"La media di tutti i valori maggiori uguali a K è: \", media_UP)\n",
    "else:\n",
    "    print(\"Media non disponibile per valori maggiori di K\")"
   ]
  },
  {
   "cell_type": "code",
   "execution_count": null,
   "id": "5399433c-7d00-4776-ba96-e4d4777b134c",
   "metadata": {},
   "outputs": [],
   "source": [
    "#es 19\n",
    "#Scrivere un programma che, data una lista di numeri, come output stamperà lo stesso numero di asterischi su righe diverse, ottenendo una semplice visualizzazione grafica\n",
    "input_numeri = (input(\"Inserisci una lista di valori separati da uno spazio\"))\n",
    "lista_numeri = [int(numero) for numero in input_numeri.split()]\n",
    "for numero in lista_numeri:\n",
    "    print(\"*\" *numero)\n"
   ]
  },
  {
   "cell_type": "code",
   "execution_count": null,
   "id": "f31da278-777a-49fc-8bb9-66858d73f9cf",
   "metadata": {},
   "outputs": [],
   "source": [
    "#es 20\n",
    "lista_cf = [\n",
    "    \"ABCDEF95G01A123B\", \n",
    "    \"GHIJKL91M02A321C\", \n",
    "    \"MNOPQR89S03A456D\", \n",
    "    \"STUVWX95Z04A654E\", \n",
    "    \"XYZABC01D05A789F\", \n",
    "    \"DEFGHI95J06A987G\"\n",
    "]\n",
    "#creo una lista per ora vuota\n",
    "cf_con_95 = []\n",
    "\n",
    "for cf in lista_cf:\n",
    "    if \"95\" in cf:\n",
    "        cf_con_95.append(cf)\n",
    "print(cf_con_95)\n",
    "\n",
    "\n",
    "#stampo ogni carattere relativo a nome e cognome separato da uno spazio\n",
    "for cf in cf_con_95:\n",
    "    nome = cf[3:6]\n",
    "    cognome = cf[:3]\n",
    "print(f\"CODICE FISCALE\",{cf})\n",
    "print(f\"Nome:{nome}, Cognome:{cognome}\")\n"
   ]
  },
  {
   "cell_type": "code",
   "execution_count": null,
   "id": "75fc81b4-5cca-4e7d-8b2b-1b734501be41",
   "metadata": {},
   "outputs": [],
   "source": [
    "#es 21\n",
    "\n",
    "\"\"\"\n",
    "• Stampare a video tutti e soli gli studenti che frequentano una prima edizione; \n",
    "non tutti i dati potrebbero essere necessari. \n",
    "Riuscite a vedere una similarità con la logica che si usa in SQL e le tabelle relazionali?\n",
    "\"\"\"\n",
    "\n",
    "studenti = [\"Alex\", \"Bob\", \"Cindy\", \"Dan\", \"Emma\", \"Faith\", \"Grace\", \"Henry\"] \n",
    "corsi = [\"Cybersecurity\", \"Data Analyst\", \"Backend\", \"Frontend\", \"Data Analyst\", \"Backend\", \"Frontend\", \"Cybersecurity\"] \n",
    "edizioni = [1, 2, 3, 2, 2, 1, 3, 3]\n",
    "\n",
    "studente_1_edizione = {studente : edizione for studente, edizione in zip(studenti, edizioni) if edizione ==1}\n",
    "print(studente_1_edizione)\n"
   ]
  },
  {
   "cell_type": "code",
   "execution_count": null,
   "id": "15b78ae4-774e-4243-9c37-ef19c279fd09",
   "metadata": {},
   "outputs": [],
   "source": [
    "#es 22\n",
    "#cambiare il simbolo dell'euro (€) in quello del dollaro ($) per ogni stringa nella lista; \n",
    "#il risultato sarà memorizzato in un'altra lista.\n",
    "prezzi = [\"100 €\", \"200 €\", \"500 €\", \"10 €\", \"50 €\", \"70 €\"]\n",
    "\n",
    "carattere_da_sostituire = \"€\"\n",
    "carattere_sostitutivo = \"$\"\n",
    "\n",
    "prezzi_corretti = [prezzo.replace (\"€\",\"$\") for prezzo in prezzi]\n",
    "print(prezzi_corretti)\n",
    "    \n",
    "    \n"
   ]
  },
  {
   "cell_type": "code",
   "execution_count": null,
   "id": "4ac0dd9a-5117-47b9-8769-742f644dcbbb",
   "metadata": {},
   "outputs": [],
   "source": [
    "#es 23\n",
    "studenti = [\"Alex\", \"Bob\", \"Cindy\", \"Dan\", \"Emma\", \"Faith\", \"Grace\", \"Henry\", \"Isabelle\", \"John\"]\n",
    "squadra_dispari = studenti[::2]\n",
    "squadra_pari = studenti[1::2]\n",
    "print(f\"La squadra dei pari è:{squadra_pari}, e la squadra dei dispari è:{squadra_dispari}\")\n"
   ]
  },
  {
   "cell_type": "code",
   "execution_count": null,
   "id": "be419fae-0a03-4214-8cf0-312d8c20f5cb",
   "metadata": {},
   "outputs": [],
   "source": [
    "#es 24\n",
    "#Abbiamo una lista con i guadagni degli ultimi 12 mesi (supponiamo da Gennaio a Dicembre)\n",
    "#confrontare, stampando tutto a video, il guadagno di ogni mese con la media dei guadagni precedenti:\n",
    "#specificare nell'output se il guadagno attuale è maggiore o minore della media dei precedenti.\n",
    "guadagni = [100, 90, 70, 40, 50, 80, 90, 120, 80, 20, 50, 50]\n",
    "\n",
    "# Iteriamo su ogni mese della lista guadagni\n",
    "for mese in range(1, len(guadagni)):\n",
    "    guadagno_attuale = guadagni[mese]\n",
    "    guadagni_precedenti = guadagni[:mese]  # Prendiamo i guadagni fino al mese attuale escluso\n",
    "    \n",
    "    # Calcoliamo la media dei guadagni precedenti\n",
    "    media_precedente = sum(guadagni_precedenti) / len(guadagni_precedenti) if guadagni_precedenti else 0\n",
    "    \n",
    "    # Confrontiamo il guadagno attuale con la media dei precedenti\n",
    "    if guadagno_attuale > media_precedente:\n",
    "        print(f\"Mese {mese}: Guadagno {guadagno_attuale} è maggiore della media dei precedenti ({media_precedente:.2f})\")\n",
    "    elif guadagno_attuale < media_precedente:\n",
    "        print(f\"Mese {mese}: Guadagno {guadagno_attuale} è minore della media dei precedenti ({media_precedente:.2f})\")\n",
    "    else:\n",
    "        print(f\"Mese {mese}: Guadagno {guadagno_attuale} è uguale alla media dei precedenti ({media_precedente:.2f})\")\n"
   ]
  },
  {
   "cell_type": "code",
   "execution_count": null,
   "id": "3c29c34b-5eb5-4427-9063-67aea3e6e92f",
   "metadata": {},
   "outputs": [],
   "source": []
  },
  {
   "cell_type": "code",
   "execution_count": null,
   "id": "4cf2271d-4fbb-4eab-a6b6-03ca90e587fc",
   "metadata": {},
   "outputs": [],
   "source": []
  }
 ],
 "metadata": {
  "kernelspec": {
   "display_name": "Python [conda env:base] *",
   "language": "python",
   "name": "conda-base-py"
  },
  "language_info": {
   "codemirror_mode": {
    "name": "ipython",
    "version": 3
   },
   "file_extension": ".py",
   "mimetype": "text/x-python",
   "name": "python",
   "nbconvert_exporter": "python",
   "pygments_lexer": "ipython3",
   "version": "3.12.7"
  }
 },
 "nbformat": 4,
 "nbformat_minor": 5
}
